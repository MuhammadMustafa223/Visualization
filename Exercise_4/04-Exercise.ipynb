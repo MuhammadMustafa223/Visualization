{
 "cells": [
  {
   "cell_type": "markdown",
   "id": "aa744a59",
   "metadata": {},
   "source": [
    "# Problem Sheet 4"
   ]
  },
  {
   "cell_type": "markdown",
   "id": "8ad27021",
   "metadata": {},
   "source": [
    "> Muhammad Mustafa 25850354\n",
    "\n",
    "> Zunaira Zunaira  10931968\n",
    "\n",
    ">Zalfa Mohayyudin 12749927"
   ]
  },
  {
   "cell_type": "markdown",
   "id": "966f5b5a",
   "metadata": {},
   "source": [
    "## **Question 4.1**\n",
    "Evolution of age distribution"
   ]
  },
  {
   "cell_type": "code",
   "execution_count": null,
   "id": "67be5577",
   "metadata": {},
   "outputs": [],
   "source": [
    "# import libraries\n",
    "import pandas as pd\n",
    "import numpy as np\n",
    "# libraries for visualization \n",
    "import matplotlib.pyplot as plt\n",
    "import seaborn as sns\n",
    "import plotly.express as px\n"
   ]
  },
  {
   "cell_type": "code",
   "execution_count": 17,
   "id": "d9cb598d",
   "metadata": {},
   "outputs": [
    {
     "data": {
      "text/html": [
       "<div>\n",
       "<style scoped>\n",
       "    .dataframe tbody tr th:only-of-type {\n",
       "        vertical-align: middle;\n",
       "    }\n",
       "\n",
       "    .dataframe tbody tr th {\n",
       "        vertical-align: top;\n",
       "    }\n",
       "\n",
       "    .dataframe thead th {\n",
       "        text-align: right;\n",
       "    }\n",
       "</style>\n",
       "<table border=\"1\" class=\"dataframe\">\n",
       "  <thead>\n",
       "    <tr style=\"text-align: right;\">\n",
       "      <th></th>\n",
       "      <th>year</th>\n",
       "      <th>age</th>\n",
       "      <th>sex</th>\n",
       "      <th>people</th>\n",
       "    </tr>\n",
       "  </thead>\n",
       "  <tbody>\n",
       "    <tr>\n",
       "      <th>0</th>\n",
       "      <td>1850</td>\n",
       "      <td>0</td>\n",
       "      <td>1</td>\n",
       "      <td>1483789</td>\n",
       "    </tr>\n",
       "    <tr>\n",
       "      <th>1</th>\n",
       "      <td>1850</td>\n",
       "      <td>0</td>\n",
       "      <td>2</td>\n",
       "      <td>1450376</td>\n",
       "    </tr>\n",
       "    <tr>\n",
       "      <th>2</th>\n",
       "      <td>1850</td>\n",
       "      <td>5</td>\n",
       "      <td>1</td>\n",
       "      <td>1411067</td>\n",
       "    </tr>\n",
       "    <tr>\n",
       "      <th>3</th>\n",
       "      <td>1850</td>\n",
       "      <td>5</td>\n",
       "      <td>2</td>\n",
       "      <td>1359668</td>\n",
       "    </tr>\n",
       "    <tr>\n",
       "      <th>4</th>\n",
       "      <td>1850</td>\n",
       "      <td>10</td>\n",
       "      <td>1</td>\n",
       "      <td>1260099</td>\n",
       "    </tr>\n",
       "    <tr>\n",
       "      <th>...</th>\n",
       "      <td>...</td>\n",
       "      <td>...</td>\n",
       "      <td>...</td>\n",
       "      <td>...</td>\n",
       "    </tr>\n",
       "    <tr>\n",
       "      <th>565</th>\n",
       "      <td>2000</td>\n",
       "      <td>80</td>\n",
       "      <td>2</td>\n",
       "      <td>3221898</td>\n",
       "    </tr>\n",
       "    <tr>\n",
       "      <th>566</th>\n",
       "      <td>2000</td>\n",
       "      <td>85</td>\n",
       "      <td>1</td>\n",
       "      <td>970357</td>\n",
       "    </tr>\n",
       "    <tr>\n",
       "      <th>567</th>\n",
       "      <td>2000</td>\n",
       "      <td>85</td>\n",
       "      <td>2</td>\n",
       "      <td>1981156</td>\n",
       "    </tr>\n",
       "    <tr>\n",
       "      <th>568</th>\n",
       "      <td>2000</td>\n",
       "      <td>90</td>\n",
       "      <td>1</td>\n",
       "      <td>336303</td>\n",
       "    </tr>\n",
       "    <tr>\n",
       "      <th>569</th>\n",
       "      <td>2000</td>\n",
       "      <td>90</td>\n",
       "      <td>2</td>\n",
       "      <td>1064581</td>\n",
       "    </tr>\n",
       "  </tbody>\n",
       "</table>\n",
       "<p>570 rows × 4 columns</p>\n",
       "</div>"
      ],
      "text/plain": [
       "     year  age  sex   people\n",
       "0    1850    0    1  1483789\n",
       "1    1850    0    2  1450376\n",
       "2    1850    5    1  1411067\n",
       "3    1850    5    2  1359668\n",
       "4    1850   10    1  1260099\n",
       "..    ...  ...  ...      ...\n",
       "565  2000   80    2  3221898\n",
       "566  2000   85    1   970357\n",
       "567  2000   85    2  1981156\n",
       "568  2000   90    1   336303\n",
       "569  2000   90    2  1064581\n",
       "\n",
       "[570 rows x 4 columns]"
      ]
     },
     "execution_count": 17,
     "metadata": {},
     "output_type": "execute_result"
    }
   ],
   "source": [
    "# Load data\n",
    "df = pd.read_csv(\"population_us.csv\")\n",
    "df"
   ]
  },
  {
   "cell_type": "code",
   "execution_count": 18,
   "id": "250ba345",
   "metadata": {},
   "outputs": [],
   "source": [
    "# Total population by year and age\n",
    "total_by_year_age = df.groupby([\"year\", \"age\"])[\"people\"].sum().reset_index()\n",
    "\n",
    "# Separate by gender for comparison\n",
    "male_df = df[df[\"sex\"] == \"Male\"]\n",
    "female_df = df[df[\"sex\"] == \"Female\"]"
   ]
  },
  {
   "cell_type": "code",
   "execution_count": 19,
   "id": "265652af",
   "metadata": {},
   "outputs": [
    {
     "data": {
      "application/vnd.plotly.v1+json": {
       "config": {
        "plotlyServerURL": "https://plot.ly"
       },
       "data": [
        {
         "hovertemplate": "year=1850<br>Age=%{x}<br>Population=%{y}<extra></extra>",
         "legendgroup": "1850",
         "line": {
          "color": "#636efa",
          "dash": "solid"
         },
         "marker": {
          "symbol": "circle"
         },
         "mode": "lines",
         "name": "1850",
         "orientation": "v",
         "showlegend": true,
         "type": "scatter",
         "x": {
          "bdata": "AAUKDxQZHiMoLTI3PEFGS1BVWg==",
          "dtype": "i1"
         },
         "xaxis": "x",
         "y": {
          "bdata": "lcUsAC9HKgC1yCUA6GEhAALXHgBNXBkAougUAHuvEACgyw0A2RELALNGCQBo0QUAPCUFAIk9AwAfOAIApzwBAD61AAAJSQAANC4AAA==",
          "dtype": "i4"
         },
         "yaxis": "y"
        }
       ],
       "frames": [
        {
         "data": [
          {
           "hovertemplate": "year=1850<br>Age=%{x}<br>Population=%{y}<extra></extra>",
           "legendgroup": "1850",
           "line": {
            "color": "#636efa",
            "dash": "solid"
           },
           "marker": {
            "symbol": "circle"
           },
           "mode": "lines",
           "name": "1850",
           "orientation": "v",
           "showlegend": true,
           "type": "scatter",
           "x": {
            "bdata": "AAUKDxQZHiMoLTI3PEFGS1BVWg==",
            "dtype": "i1"
           },
           "xaxis": "x",
           "y": {
            "bdata": "lcUsAC9HKgC1yCUA6GEhAALXHgBNXBkAougUAHuvEACgyw0A2RELALNGCQBo0QUAPCUFAIk9AwAfOAIApzwBAD61AAAJSQAANC4AAA==",
            "dtype": "i4"
           },
           "yaxis": "y"
          }
         ],
         "name": "1850"
        },
        {
         "data": [
          {
           "hovertemplate": "year=1860<br>Age=%{x}<br>Population=%{y}<extra></extra>",
           "legendgroup": "1860",
           "line": {
            "color": "#EF553B",
            "dash": "solid"
           },
           "marker": {
            "symbol": "circle"
           },
           "mode": "lines",
           "name": "1860",
           "orientation": "v",
           "showlegend": true,
           "type": "scatter",
           "x": {
            "bdata": "AAUKDxQZHiMoLTI3PEFGS1BVWg==",
            "dtype": "i1"
           },
           "xaxis": "x",
           "y": {
            "bdata": "EElAAAetNgBeHDAATcUsAC+HKQAknSMAXTMeAM55GACkFRQAf3kPAPksDQAZiggAnsoHALBvBAAzDgMAeL4BAJHkAACnXwAAHjYAAA==",
            "dtype": "i4"
           },
           "yaxis": "y"
          }
         ],
         "name": "1860"
        },
        {
         "data": [
          {
           "hovertemplate": "year=1870<br>Age=%{x}<br>Population=%{y}<extra></extra>",
           "legendgroup": "1870",
           "line": {
            "color": "#00cc96",
            "dash": "solid"
           },
           "marker": {
            "symbol": "circle"
           },
           "mode": "lines",
           "name": "1870",
           "orientation": "v",
           "showlegend": true,
           "type": "scatter",
           "x": {
            "bdata": "AAUKDxQZHiMoLTI3PEFGS1BVWg==",
            "dtype": "i1"
           },
           "xaxis": "x",
           "y": {
            "bdata": "gS9UAIWUSQDbyEgANpQ9AH2uOABQDC8Au48mAIpxIwCuMR0ATGwYAOz3FACfow0Asc8LAMWgBwCxKwUAVbECAPGMAQB5iQAA1VQAAA==",
            "dtype": "i4"
           },
           "yaxis": "y"
          }
         ],
         "name": "1870"
        },
        {
         "data": [
          {
           "hovertemplate": "year=1880<br>Age=%{x}<br>Population=%{y}<extra></extra>",
           "legendgroup": "1880",
           "line": {
            "color": "#ab63fa",
            "dash": "solid"
           },
           "marker": {
            "symbol": "circle"
           },
           "mode": "lines",
           "name": "1880",
           "orientation": "v",
           "showlegend": true,
           "type": "scatter",
           "x": {
            "bdata": "AAUKDxQZHiMoLTI3PEFGS1BVWg==",
            "dtype": "i1"
           },
           "xaxis": "x",
           "y": {
            "bdata": "+yBqAGXTYgAiXVcA0BJMAOc3TQDCdj4A1w0zAGkmLgDuyiUAtJQfAKjiGwCGcBMANuUQALXrCgCSvQcA1VkEALA1AgCg0QAAe2QAAA==",
            "dtype": "i4"
           },
           "yaxis": "y"
          }
         ],
         "name": "1880"
        },
        {
         "data": [
          {
           "hovertemplate": "year=1900<br>Age=%{x}<br>Population=%{y}<extra></extra>",
           "legendgroup": "1900",
           "line": {
            "color": "#FFA15A",
            "dash": "solid"
           },
           "marker": {
            "symbol": "circle"
           },
           "mode": "lines",
           "name": "1900",
           "orientation": "v",
           "showlegend": true,
           "type": "scatter",
           "x": {
            "bdata": "AAUKDxQZHiMoLTI3PEFGS1BVWg==",
            "dtype": "i1"
           },
           "xaxis": "x",
           "y": {
            "bdata": "pIOMAMoihwAa+noADZxzAGuacQA4GGUACjVVAHQDTABJGEEAFqg1AGuELQBs+SEAL4cbAGsIFAAipw0ASiYIACz3AwDOaQEAuYkAAA==",
            "dtype": "i4"
           },
           "yaxis": "y"
          }
         ],
         "name": "1900"
        },
        {
         "data": [
          {
           "hovertemplate": "year=1910<br>Age=%{x}<br>Population=%{y}<extra></extra>",
           "legendgroup": "1910",
           "line": {
            "color": "#19d3f3",
            "dash": "solid"
           },
           "marker": {
            "symbol": "circle"
           },
           "mode": "lines",
           "name": "1910",
           "orientation": "v",
           "showlegend": true,
           "type": "scatter",
           "x": {
            "bdata": "AAUKDxQZHiMoLTI3PEFGS1BVWg==",
            "dtype": "i1"
           },
           "xaxis": "x",
           "y": {
            "bdata": "7IChAJZrlgBKM4sAF7+LAIOhigCELn0AgRlqABxvYwAoWlEAC1dEAMyCOwAZHysAtsoiABtkGQCX3hAAK0cKAJ4gBQA43gEAns4AAA==",
            "dtype": "i4"
           },
           "yaxis": "y"
          }
         ],
         "name": "1910"
        },
        {
         "data": [
          {
           "hovertemplate": "year=1920<br>Age=%{x}<br>Population=%{y}<extra></extra>",
           "legendgroup": "1920",
           "line": {
            "color": "#FF6692",
            "dash": "solid"
           },
           "marker": {
            "symbol": "circle"
           },
           "mode": "lines",
           "name": "1920",
           "orientation": "v",
           "showlegend": true,
           "type": "scatter",
           "x": {
            "bdata": "AAUKDxQZHiMoLTI3PEFGS1BVWg==",
            "dtype": "i1"
           },
           "xaxis": "x",
           "y": {
            "bdata": "7HGxAFg3rwBFLqMALQaRAAvJjQAwxYoADX57AJnydgBwYGEA9LJYAB5tSAA/QTYAOlMtAOHTHwArbxUAtRINAB4TBgB0kwIA09QAAA==",
            "dtype": "i4"
           },
           "yaxis": "y"
          }
         ],
         "name": "1920"
        },
        {
         "data": [
          {
           "hovertemplate": "year=1930<br>Age=%{x}<br>Population=%{y}<extra></extra>",
           "legendgroup": "1930",
           "line": {
            "color": "#B6E880",
            "dash": "solid"
           },
           "marker": {
            "symbol": "circle"
           },
           "mode": "lines",
           "name": "1930",
           "orientation": "v",
           "showlegend": true,
           "type": "scatter",
           "x": {
            "bdata": "AAUKDxQZHiMoLTI3PEFGS1BVWg==",
            "dtype": "i1"
           },
           "xaxis": "x",
           "y": {
            "bdata": "dA2wAJlcwQCV47cA/yevAE7ipQCySJgABX6HAIPtiwCpdncAzkNrAJOYWgATN0gAZ6A4AMtEKQDyCRwAEykQAG8XCAAsBgMAXSABAA==",
            "dtype": "i4"
           },
           "yaxis": "y"
          }
         ],
         "name": "1930"
        },
        {
         "data": [
          {
           "hovertemplate": "year=1940<br>Age=%{x}<br>Population=%{y}<extra></extra>",
           "legendgroup": "1940",
           "line": {
            "color": "#FF97FF",
            "dash": "solid"
           },
           "marker": {
            "symbol": "circle"
           },
           "mode": "lines",
           "name": "1940",
           "orientation": "v",
           "showlegend": true,
           "type": "scatter",
           "x": {
            "bdata": "AAUKDxQZHiMoLTI3PEFGS1BVWg==",
            "dtype": "i1"
           },
           "xaxis": "x",
           "y": {
            "bdata": "UfyeANU2pQDUfrQAmpS8ADCssADKaKkA8tCbAEU2kQDdwYYAXb19AJP+bgA1OlgAlohHABseOgA2LicAhpAWACPQCwCKQwQAHogBAA==",
            "dtype": "i4"
           },
           "yaxis": "y"
          }
         ],
         "name": "1940"
        },
        {
         "data": [
          {
           "hovertemplate": "year=1950<br>Age=%{x}<br>Population=%{y}<extra></extra>",
           "legendgroup": "1950",
           "line": {
            "color": "#FECB52",
            "dash": "solid"
           },
           "marker": {
            "symbol": "circle"
           },
           "mode": "lines",
           "name": "1950",
           "orientation": "v",
           "showlegend": true,
           "type": "scatter",
           "x": {
            "bdata": "AAUKDxQZHiMoLTI3PEFGS1BVWg==",
            "dtype": "i1"
           },
           "xaxis": "x",
           "y": {
            "bdata": "WUX1AFjEyABjxagAJwahAM9ergDqDrwAAJCwAMkDqwBxzZwAO0yLAFtbfwAt0W4AhjxcAAzUSwDfGjQA9+EgAASKEQCTfgYAwjgCAA==",
            "dtype": "i4"
           },
           "yaxis": "y"
          }
         ],
         "name": "1950"
        },
        {
         "data": [
          {
           "hovertemplate": "year=1960<br>Age=%{x}<br>Population=%{y}<extra></extra>",
           "legendgroup": "1960",
           "line": {
            "color": "#636efa",
            "dash": "solid"
           },
           "marker": {
            "symbol": "circle"
           },
           "mode": "lines",
           "name": "1960",
           "orientation": "v",
           "showlegend": true,
           "type": "scatter",
           "x": {
            "bdata": "AAUKDxQZHiMoLTI3PEFGS1BVWg==",
            "dtype": "i1"
           },
           "xaxis": "x",
           "y": {
            "bdata": "9iM5AYQLHgHgewEBewDKALeEpAAgtqUA7HW1AECmvgB/+rAAdrylADDkkwAT0oIALMhsAMaBXQCyrkYAjAQtAAuJFgB5uwkA4joDAA==",
            "dtype": "i4"
           },
           "yaxis": "y"
          }
         ],
         "name": "1960"
        },
        {
         "data": [
          {
           "hovertemplate": "year=1970<br>Age=%{x}<br>Population=%{y}<extra></extra>",
           "legendgroup": "1970",
           "line": {
            "color": "#EF553B",
            "dash": "solid"
           },
           "marker": {
            "symbol": "circle"
           },
           "mode": "lines",
           "name": "1970",
           "orientation": "v",
           "showlegend": true,
           "type": "scatter",
           "x": {
            "bdata": "AAUKDxQZHiMoLTI3PEFGS1BVWg==",
            "dtype": "i1"
           },
           "xaxis": "x",
           "y": {
            "bdata": "KJUDAdh/NwGl9UEBozciAXg59QAmHc0AOIOtAPFxqQCxyLQAHv+2AJEZqQAzXJgA7nODAPlhawCzmVMApWU7ANwmIwACtg8At6YHAA==",
            "dtype": "i4"
           },
           "yaxis": "y"
          }
         ],
         "name": "1970"
        },
        {
         "data": [
          {
           "hovertemplate": "year=1980<br>Age=%{x}<br>Population=%{y}<extra></extra>",
           "legendgroup": "1980",
           "line": {
            "color": "#00cc96",
            "dash": "solid"
           },
           "marker": {
            "symbol": "circle"
           },
           "mode": "lines",
           "name": "1980",
           "orientation": "v",
           "showlegend": true,
           "type": "scatter",
           "x": {
            "bdata": "AAUKDxQZHiMoLTI3PEFGS1BVWg==",
            "dtype": "i1"
           },
           "xaxis": "x",
           "y": {
            "bdata": "BBj8AMO8AgHVTBoBhxlCAZv8QQE00CgBhHwNAQRq1QBqtLEADHWoACK9sgCPsbEAQeyaALkhhgBfFWgAhR9JANK9LACd0RYA2roKAA==",
            "dtype": "i4"
           },
           "yaxis": "y"
          }
         ],
         "name": "1980"
        },
        {
         "data": [
          {
           "hovertemplate": "year=1990<br>Age=%{x}<br>Population=%{y}<extra></extra>",
           "legendgroup": "1990",
           "line": {
            "color": "#ab63fa",
            "dash": "solid"
           },
           "marker": {
            "symbol": "circle"
           },
           "mode": "lines",
           "name": "1990",
           "orientation": "v",
           "showlegend": true,
           "type": "scatter",
           "x": {
            "bdata": "AAUKDxQZHiMoLTI3PEFGS1BVWg==",
            "dtype": "i1"
           },
           "xaxis": "x",
           "y": {
            "bdata": "gLsVAT/MEwFSOgUBK7sMAaCkGwGHLUQBvr5RAWGJLwG0LQ0Byw/VAN3FrgDAVZ8AwwCiABqcmgDarHoAsJpcAFZWOwDcpB4ANQIPAA==",
            "dtype": "i4"
           },
           "yaxis": "y"
          }
         ],
         "name": "1990"
        },
        {
         "data": [
          {
           "hovertemplate": "year=2000<br>Age=%{x}<br>Population=%{y}<extra></extra>",
           "legendgroup": "2000",
           "line": {
            "color": "#FFA15A",
            "dash": "solid"
           },
           "marker": {
            "symbol": "circle"
           },
           "mode": "lines",
           "name": "2000",
           "orientation": "v",
           "showlegend": true,
           "type": "scatter",
           "x": {
            "bdata": "AAUKDxQZHiMoLTI3PEFGS1BVWg==",
            "dtype": "i1"
           },
           "xaxis": "x",
           "y": {
            "bdata": "zp4iAY6pOgEdHToB6BswAcfDIgEQoiQBNyM2Aa2kYAH+CFwBkwQ0ATvLCQH+KswAqK2kAKdFjQBo+ogAy+duALgxTgBZCS0ANGAVAA==",
            "dtype": "i4"
           },
           "yaxis": "y"
          }
         ],
         "name": "2000"
        }
       ],
       "layout": {
        "height": 500,
        "legend": {
         "title": {
          "text": "year"
         },
         "tracegroupgap": 0
        },
        "sliders": [
         {
          "active": 0,
          "currentvalue": {
           "prefix": "year="
          },
          "len": 0.9,
          "pad": {
           "b": 10,
           "t": 60
          },
          "steps": [
           {
            "args": [
             [
              "1850"
             ],
             {
              "frame": {
               "duration": 0,
               "redraw": false
              },
              "fromcurrent": true,
              "mode": "immediate",
              "transition": {
               "duration": 0,
               "easing": "linear"
              }
             }
            ],
            "label": "1850",
            "method": "animate"
           },
           {
            "args": [
             [
              "1860"
             ],
             {
              "frame": {
               "duration": 0,
               "redraw": false
              },
              "fromcurrent": true,
              "mode": "immediate",
              "transition": {
               "duration": 0,
               "easing": "linear"
              }
             }
            ],
            "label": "1860",
            "method": "animate"
           },
           {
            "args": [
             [
              "1870"
             ],
             {
              "frame": {
               "duration": 0,
               "redraw": false
              },
              "fromcurrent": true,
              "mode": "immediate",
              "transition": {
               "duration": 0,
               "easing": "linear"
              }
             }
            ],
            "label": "1870",
            "method": "animate"
           },
           {
            "args": [
             [
              "1880"
             ],
             {
              "frame": {
               "duration": 0,
               "redraw": false
              },
              "fromcurrent": true,
              "mode": "immediate",
              "transition": {
               "duration": 0,
               "easing": "linear"
              }
             }
            ],
            "label": "1880",
            "method": "animate"
           },
           {
            "args": [
             [
              "1900"
             ],
             {
              "frame": {
               "duration": 0,
               "redraw": false
              },
              "fromcurrent": true,
              "mode": "immediate",
              "transition": {
               "duration": 0,
               "easing": "linear"
              }
             }
            ],
            "label": "1900",
            "method": "animate"
           },
           {
            "args": [
             [
              "1910"
             ],
             {
              "frame": {
               "duration": 0,
               "redraw": false
              },
              "fromcurrent": true,
              "mode": "immediate",
              "transition": {
               "duration": 0,
               "easing": "linear"
              }
             }
            ],
            "label": "1910",
            "method": "animate"
           },
           {
            "args": [
             [
              "1920"
             ],
             {
              "frame": {
               "duration": 0,
               "redraw": false
              },
              "fromcurrent": true,
              "mode": "immediate",
              "transition": {
               "duration": 0,
               "easing": "linear"
              }
             }
            ],
            "label": "1920",
            "method": "animate"
           },
           {
            "args": [
             [
              "1930"
             ],
             {
              "frame": {
               "duration": 0,
               "redraw": false
              },
              "fromcurrent": true,
              "mode": "immediate",
              "transition": {
               "duration": 0,
               "easing": "linear"
              }
             }
            ],
            "label": "1930",
            "method": "animate"
           },
           {
            "args": [
             [
              "1940"
             ],
             {
              "frame": {
               "duration": 0,
               "redraw": false
              },
              "fromcurrent": true,
              "mode": "immediate",
              "transition": {
               "duration": 0,
               "easing": "linear"
              }
             }
            ],
            "label": "1940",
            "method": "animate"
           },
           {
            "args": [
             [
              "1950"
             ],
             {
              "frame": {
               "duration": 0,
               "redraw": false
              },
              "fromcurrent": true,
              "mode": "immediate",
              "transition": {
               "duration": 0,
               "easing": "linear"
              }
             }
            ],
            "label": "1950",
            "method": "animate"
           },
           {
            "args": [
             [
              "1960"
             ],
             {
              "frame": {
               "duration": 0,
               "redraw": false
              },
              "fromcurrent": true,
              "mode": "immediate",
              "transition": {
               "duration": 0,
               "easing": "linear"
              }
             }
            ],
            "label": "1960",
            "method": "animate"
           },
           {
            "args": [
             [
              "1970"
             ],
             {
              "frame": {
               "duration": 0,
               "redraw": false
              },
              "fromcurrent": true,
              "mode": "immediate",
              "transition": {
               "duration": 0,
               "easing": "linear"
              }
             }
            ],
            "label": "1970",
            "method": "animate"
           },
           {
            "args": [
             [
              "1980"
             ],
             {
              "frame": {
               "duration": 0,
               "redraw": false
              },
              "fromcurrent": true,
              "mode": "immediate",
              "transition": {
               "duration": 0,
               "easing": "linear"
              }
             }
            ],
            "label": "1980",
            "method": "animate"
           },
           {
            "args": [
             [
              "1990"
             ],
             {
              "frame": {
               "duration": 0,
               "redraw": false
              },
              "fromcurrent": true,
              "mode": "immediate",
              "transition": {
               "duration": 0,
               "easing": "linear"
              }
             }
            ],
            "label": "1990",
            "method": "animate"
           },
           {
            "args": [
             [
              "2000"
             ],
             {
              "frame": {
               "duration": 0,
               "redraw": false
              },
              "fromcurrent": true,
              "mode": "immediate",
              "transition": {
               "duration": 0,
               "easing": "linear"
              }
             }
            ],
            "label": "2000",
            "method": "animate"
           }
          ],
          "x": 0.1,
          "xanchor": "left",
          "y": 0,
          "yanchor": "top"
         }
        ],
        "template": {
         "data": {
          "bar": [
           {
            "error_x": {
             "color": "#2a3f5f"
            },
            "error_y": {
             "color": "#2a3f5f"
            },
            "marker": {
             "line": {
              "color": "#E5ECF6",
              "width": 0.5
             },
             "pattern": {
              "fillmode": "overlay",
              "size": 10,
              "solidity": 0.2
             }
            },
            "type": "bar"
           }
          ],
          "barpolar": [
           {
            "marker": {
             "line": {
              "color": "#E5ECF6",
              "width": 0.5
             },
             "pattern": {
              "fillmode": "overlay",
              "size": 10,
              "solidity": 0.2
             }
            },
            "type": "barpolar"
           }
          ],
          "carpet": [
           {
            "aaxis": {
             "endlinecolor": "#2a3f5f",
             "gridcolor": "white",
             "linecolor": "white",
             "minorgridcolor": "white",
             "startlinecolor": "#2a3f5f"
            },
            "baxis": {
             "endlinecolor": "#2a3f5f",
             "gridcolor": "white",
             "linecolor": "white",
             "minorgridcolor": "white",
             "startlinecolor": "#2a3f5f"
            },
            "type": "carpet"
           }
          ],
          "choropleth": [
           {
            "colorbar": {
             "outlinewidth": 0,
             "ticks": ""
            },
            "type": "choropleth"
           }
          ],
          "contour": [
           {
            "colorbar": {
             "outlinewidth": 0,
             "ticks": ""
            },
            "colorscale": [
             [
              0,
              "#0d0887"
             ],
             [
              0.1111111111111111,
              "#46039f"
             ],
             [
              0.2222222222222222,
              "#7201a8"
             ],
             [
              0.3333333333333333,
              "#9c179e"
             ],
             [
              0.4444444444444444,
              "#bd3786"
             ],
             [
              0.5555555555555556,
              "#d8576b"
             ],
             [
              0.6666666666666666,
              "#ed7953"
             ],
             [
              0.7777777777777778,
              "#fb9f3a"
             ],
             [
              0.8888888888888888,
              "#fdca26"
             ],
             [
              1,
              "#f0f921"
             ]
            ],
            "type": "contour"
           }
          ],
          "contourcarpet": [
           {
            "colorbar": {
             "outlinewidth": 0,
             "ticks": ""
            },
            "type": "contourcarpet"
           }
          ],
          "heatmap": [
           {
            "colorbar": {
             "outlinewidth": 0,
             "ticks": ""
            },
            "colorscale": [
             [
              0,
              "#0d0887"
             ],
             [
              0.1111111111111111,
              "#46039f"
             ],
             [
              0.2222222222222222,
              "#7201a8"
             ],
             [
              0.3333333333333333,
              "#9c179e"
             ],
             [
              0.4444444444444444,
              "#bd3786"
             ],
             [
              0.5555555555555556,
              "#d8576b"
             ],
             [
              0.6666666666666666,
              "#ed7953"
             ],
             [
              0.7777777777777778,
              "#fb9f3a"
             ],
             [
              0.8888888888888888,
              "#fdca26"
             ],
             [
              1,
              "#f0f921"
             ]
            ],
            "type": "heatmap"
           }
          ],
          "histogram": [
           {
            "marker": {
             "pattern": {
              "fillmode": "overlay",
              "size": 10,
              "solidity": 0.2
             }
            },
            "type": "histogram"
           }
          ],
          "histogram2d": [
           {
            "colorbar": {
             "outlinewidth": 0,
             "ticks": ""
            },
            "colorscale": [
             [
              0,
              "#0d0887"
             ],
             [
              0.1111111111111111,
              "#46039f"
             ],
             [
              0.2222222222222222,
              "#7201a8"
             ],
             [
              0.3333333333333333,
              "#9c179e"
             ],
             [
              0.4444444444444444,
              "#bd3786"
             ],
             [
              0.5555555555555556,
              "#d8576b"
             ],
             [
              0.6666666666666666,
              "#ed7953"
             ],
             [
              0.7777777777777778,
              "#fb9f3a"
             ],
             [
              0.8888888888888888,
              "#fdca26"
             ],
             [
              1,
              "#f0f921"
             ]
            ],
            "type": "histogram2d"
           }
          ],
          "histogram2dcontour": [
           {
            "colorbar": {
             "outlinewidth": 0,
             "ticks": ""
            },
            "colorscale": [
             [
              0,
              "#0d0887"
             ],
             [
              0.1111111111111111,
              "#46039f"
             ],
             [
              0.2222222222222222,
              "#7201a8"
             ],
             [
              0.3333333333333333,
              "#9c179e"
             ],
             [
              0.4444444444444444,
              "#bd3786"
             ],
             [
              0.5555555555555556,
              "#d8576b"
             ],
             [
              0.6666666666666666,
              "#ed7953"
             ],
             [
              0.7777777777777778,
              "#fb9f3a"
             ],
             [
              0.8888888888888888,
              "#fdca26"
             ],
             [
              1,
              "#f0f921"
             ]
            ],
            "type": "histogram2dcontour"
           }
          ],
          "mesh3d": [
           {
            "colorbar": {
             "outlinewidth": 0,
             "ticks": ""
            },
            "type": "mesh3d"
           }
          ],
          "parcoords": [
           {
            "line": {
             "colorbar": {
              "outlinewidth": 0,
              "ticks": ""
             }
            },
            "type": "parcoords"
           }
          ],
          "pie": [
           {
            "automargin": true,
            "type": "pie"
           }
          ],
          "scatter": [
           {
            "fillpattern": {
             "fillmode": "overlay",
             "size": 10,
             "solidity": 0.2
            },
            "type": "scatter"
           }
          ],
          "scatter3d": [
           {
            "line": {
             "colorbar": {
              "outlinewidth": 0,
              "ticks": ""
             }
            },
            "marker": {
             "colorbar": {
              "outlinewidth": 0,
              "ticks": ""
             }
            },
            "type": "scatter3d"
           }
          ],
          "scattercarpet": [
           {
            "marker": {
             "colorbar": {
              "outlinewidth": 0,
              "ticks": ""
             }
            },
            "type": "scattercarpet"
           }
          ],
          "scattergeo": [
           {
            "marker": {
             "colorbar": {
              "outlinewidth": 0,
              "ticks": ""
             }
            },
            "type": "scattergeo"
           }
          ],
          "scattergl": [
           {
            "marker": {
             "colorbar": {
              "outlinewidth": 0,
              "ticks": ""
             }
            },
            "type": "scattergl"
           }
          ],
          "scattermap": [
           {
            "marker": {
             "colorbar": {
              "outlinewidth": 0,
              "ticks": ""
             }
            },
            "type": "scattermap"
           }
          ],
          "scattermapbox": [
           {
            "marker": {
             "colorbar": {
              "outlinewidth": 0,
              "ticks": ""
             }
            },
            "type": "scattermapbox"
           }
          ],
          "scatterpolar": [
           {
            "marker": {
             "colorbar": {
              "outlinewidth": 0,
              "ticks": ""
             }
            },
            "type": "scatterpolar"
           }
          ],
          "scatterpolargl": [
           {
            "marker": {
             "colorbar": {
              "outlinewidth": 0,
              "ticks": ""
             }
            },
            "type": "scatterpolargl"
           }
          ],
          "scatterternary": [
           {
            "marker": {
             "colorbar": {
              "outlinewidth": 0,
              "ticks": ""
             }
            },
            "type": "scatterternary"
           }
          ],
          "surface": [
           {
            "colorbar": {
             "outlinewidth": 0,
             "ticks": ""
            },
            "colorscale": [
             [
              0,
              "#0d0887"
             ],
             [
              0.1111111111111111,
              "#46039f"
             ],
             [
              0.2222222222222222,
              "#7201a8"
             ],
             [
              0.3333333333333333,
              "#9c179e"
             ],
             [
              0.4444444444444444,
              "#bd3786"
             ],
             [
              0.5555555555555556,
              "#d8576b"
             ],
             [
              0.6666666666666666,
              "#ed7953"
             ],
             [
              0.7777777777777778,
              "#fb9f3a"
             ],
             [
              0.8888888888888888,
              "#fdca26"
             ],
             [
              1,
              "#f0f921"
             ]
            ],
            "type": "surface"
           }
          ],
          "table": [
           {
            "cells": {
             "fill": {
              "color": "#EBF0F8"
             },
             "line": {
              "color": "white"
             }
            },
            "header": {
             "fill": {
              "color": "#C8D4E3"
             },
             "line": {
              "color": "white"
             }
            },
            "type": "table"
           }
          ]
         },
         "layout": {
          "annotationdefaults": {
           "arrowcolor": "#2a3f5f",
           "arrowhead": 0,
           "arrowwidth": 1
          },
          "autotypenumbers": "strict",
          "coloraxis": {
           "colorbar": {
            "outlinewidth": 0,
            "ticks": ""
           }
          },
          "colorscale": {
           "diverging": [
            [
             0,
             "#8e0152"
            ],
            [
             0.1,
             "#c51b7d"
            ],
            [
             0.2,
             "#de77ae"
            ],
            [
             0.3,
             "#f1b6da"
            ],
            [
             0.4,
             "#fde0ef"
            ],
            [
             0.5,
             "#f7f7f7"
            ],
            [
             0.6,
             "#e6f5d0"
            ],
            [
             0.7,
             "#b8e186"
            ],
            [
             0.8,
             "#7fbc41"
            ],
            [
             0.9,
             "#4d9221"
            ],
            [
             1,
             "#276419"
            ]
           ],
           "sequential": [
            [
             0,
             "#0d0887"
            ],
            [
             0.1111111111111111,
             "#46039f"
            ],
            [
             0.2222222222222222,
             "#7201a8"
            ],
            [
             0.3333333333333333,
             "#9c179e"
            ],
            [
             0.4444444444444444,
             "#bd3786"
            ],
            [
             0.5555555555555556,
             "#d8576b"
            ],
            [
             0.6666666666666666,
             "#ed7953"
            ],
            [
             0.7777777777777778,
             "#fb9f3a"
            ],
            [
             0.8888888888888888,
             "#fdca26"
            ],
            [
             1,
             "#f0f921"
            ]
           ],
           "sequentialminus": [
            [
             0,
             "#0d0887"
            ],
            [
             0.1111111111111111,
             "#46039f"
            ],
            [
             0.2222222222222222,
             "#7201a8"
            ],
            [
             0.3333333333333333,
             "#9c179e"
            ],
            [
             0.4444444444444444,
             "#bd3786"
            ],
            [
             0.5555555555555556,
             "#d8576b"
            ],
            [
             0.6666666666666666,
             "#ed7953"
            ],
            [
             0.7777777777777778,
             "#fb9f3a"
            ],
            [
             0.8888888888888888,
             "#fdca26"
            ],
            [
             1,
             "#f0f921"
            ]
           ]
          },
          "colorway": [
           "#636efa",
           "#EF553B",
           "#00cc96",
           "#ab63fa",
           "#FFA15A",
           "#19d3f3",
           "#FF6692",
           "#B6E880",
           "#FF97FF",
           "#FECB52"
          ],
          "font": {
           "color": "#2a3f5f"
          },
          "geo": {
           "bgcolor": "white",
           "lakecolor": "white",
           "landcolor": "#E5ECF6",
           "showlakes": true,
           "showland": true,
           "subunitcolor": "white"
          },
          "hoverlabel": {
           "align": "left"
          },
          "hovermode": "closest",
          "mapbox": {
           "style": "light"
          },
          "paper_bgcolor": "white",
          "plot_bgcolor": "#E5ECF6",
          "polar": {
           "angularaxis": {
            "gridcolor": "white",
            "linecolor": "white",
            "ticks": ""
           },
           "bgcolor": "#E5ECF6",
           "radialaxis": {
            "gridcolor": "white",
            "linecolor": "white",
            "ticks": ""
           }
          },
          "scene": {
           "xaxis": {
            "backgroundcolor": "#E5ECF6",
            "gridcolor": "white",
            "gridwidth": 2,
            "linecolor": "white",
            "showbackground": true,
            "ticks": "",
            "zerolinecolor": "white"
           },
           "yaxis": {
            "backgroundcolor": "#E5ECF6",
            "gridcolor": "white",
            "gridwidth": 2,
            "linecolor": "white",
            "showbackground": true,
            "ticks": "",
            "zerolinecolor": "white"
           },
           "zaxis": {
            "backgroundcolor": "#E5ECF6",
            "gridcolor": "white",
            "gridwidth": 2,
            "linecolor": "white",
            "showbackground": true,
            "ticks": "",
            "zerolinecolor": "white"
           }
          },
          "shapedefaults": {
           "line": {
            "color": "#2a3f5f"
           }
          },
          "ternary": {
           "aaxis": {
            "gridcolor": "white",
            "linecolor": "white",
            "ticks": ""
           },
           "baxis": {
            "gridcolor": "white",
            "linecolor": "white",
            "ticks": ""
           },
           "bgcolor": "#E5ECF6",
           "caxis": {
            "gridcolor": "white",
            "linecolor": "white",
            "ticks": ""
           }
          },
          "title": {
           "x": 0.05
          },
          "xaxis": {
           "automargin": true,
           "gridcolor": "white",
           "linecolor": "white",
           "ticks": "",
           "title": {
            "standoff": 15
           },
           "zerolinecolor": "white",
           "zerolinewidth": 2
          },
          "yaxis": {
           "automargin": true,
           "gridcolor": "white",
           "linecolor": "white",
           "ticks": "",
           "title": {
            "standoff": 15
           },
           "zerolinecolor": "white",
           "zerolinewidth": 2
          }
         }
        },
        "title": {
         "text": "US Population Age Distribution Over Time"
        },
        "updatemenus": [
         {
          "buttons": [
           {
            "args": [
             null,
             {
              "frame": {
               "duration": 500,
               "redraw": false
              },
              "fromcurrent": true,
              "mode": "immediate",
              "transition": {
               "duration": 500,
               "easing": "linear"
              }
             }
            ],
            "label": "&#9654;",
            "method": "animate"
           },
           {
            "args": [
             [
              null
             ],
             {
              "frame": {
               "duration": 0,
               "redraw": false
              },
              "fromcurrent": true,
              "mode": "immediate",
              "transition": {
               "duration": 0,
               "easing": "linear"
              }
             }
            ],
            "label": "&#9724;",
            "method": "animate"
           }
          ],
          "direction": "left",
          "pad": {
           "r": 10,
           "t": 70
          },
          "showactive": false,
          "type": "buttons",
          "x": 0.1,
          "xanchor": "right",
          "y": 0,
          "yanchor": "top"
         }
        ],
        "width": 900,
        "xaxis": {
         "anchor": "y",
         "domain": [
          0,
          1
         ],
         "title": {
          "text": "Age"
         }
        },
        "yaxis": {
         "anchor": "x",
         "domain": [
          0,
          1
         ],
         "range": [
          0,
          23110829
         ],
         "title": {
          "text": "Population"
         }
        }
       }
      }
     },
     "metadata": {},
     "output_type": "display_data"
    }
   ],
   "source": [
    "fig = px.line(\n",
    "    total_by_year_age,\n",
    "    x=\"age\",\n",
    "    y=\"people\",\n",
    "    color=\"year\",\n",
    "    animation_frame=\"year\",\n",
    "    title=\"US Population Age Distribution Over Time\",\n",
    "    labels={\"people\": \"Population\", \"age\": \"Age\"},\n",
    "    range_y=[0, total_by_year_age[\"people\"].max()]\n",
    ")\n",
    "\n",
    "fig.update_layout(width=900, height=500)\n",
    "fig.show()"
   ]
  },
  {
   "cell_type": "code",
   "execution_count": 20,
   "id": "713b5542",
   "metadata": {},
   "outputs": [],
   "source": [
    "# Filter for year 2000\n",
    "year = 1990\n",
    "df_year = df[df[\"year\"] == year]\n",
    "\n",
    "# Separate male and female data\n",
    "male = df_year[df_year[\"sex\"] == 1]\n",
    "female = df_year[df_year[\"sex\"] == 2]\n"
   ]
  },
  {
   "cell_type": "code",
   "execution_count": 21,
   "id": "9b017fa0",
   "metadata": {},
   "outputs": [],
   "source": [
    "# Sort by age for consistent plotting\n",
    "male = male.sort_values(\"age\")\n",
    "female = female.sort_values(\"age\")\n",
    "\n",
    "# Get ages and population counts\n",
    "ages = male[\"age\"]\n",
    "male_population = male[\"people\"]\n",
    "female_population = female[\"people\"]\n"
   ]
  },
  {
   "cell_type": "code",
   "execution_count": 22,
   "id": "63f05467",
   "metadata": {},
   "outputs": [
    {
     "name": "stderr",
     "output_type": "stream",
     "text": [
      "C:\\Users\\Mustafa\\AppData\\Local\\Temp\\ipykernel_8576\\3300195924.py:18: UserWarning:\n",
      "\n",
      "set_ticklabels() should only be used with a fixed number of ticks, i.e. after set_ticks() or using a FixedLocator.\n",
      "\n"
     ]
    },
    {
     "data": {
      "image/png": "[encoded data removed]",
      "text/plain": [
       "<Figure size 1000x800 with 1 Axes>"
      ]
     },
     "metadata": {},
     "output_type": "display_data"
    }
   ],
   "source": [
    "# Create the pyramid\n",
    "fig, ax = plt.subplots(figsize=(10, 8))\n",
    "\n",
    "# Plot male population on the left (negative values for mirroring)\n",
    "ax.barh(ages, -male_population, color='steelblue', label='Male')\n",
    "\n",
    "# Plot female population on the right\n",
    "ax.barh(ages, female_population, color='lightcoral', label='Female')\n",
    "\n",
    "# Set labels and title\n",
    "ax.set_xlabel(\"Population\")\n",
    "ax.set_ylabel(\"Age\")\n",
    "ax.set_title(f\"Population Pyramid (USA, {year})\")\n",
    "ax.legend(loc='upper right')\n",
    "\n",
    "# Format x-axis labels to show absolute values\n",
    "xticks = ax.get_xticks()\n",
    "ax.set_xticklabels([f\"{abs(int(x)):,}\" for x in xticks])\n",
    "\n",
    "plt.grid(axis='x', linestyle='--', alpha=0.5)\n",
    "plt.tight_layout()\n",
    "plt.show()\n"
   ]
  },
  {
   "cell_type": "markdown",
   "id": "93f67619",
   "metadata": {},
   "source": [
    "## **Question 4.2**\n",
    "Central Limit Theorem."
   ]
  },
  {
   "cell_type": "code",
   "execution_count": 23,
   "id": "10cb1170",
   "metadata": {},
   "outputs": [],
   "source": [
    "def sample_XN(M, N, seed=None):\n",
    "    \"\"\"\n",
    "    Generate M samples of the random variable X_N.\n",
    "\n",
    "    Parameters:\n",
    "    - M (int): Number of samples to generate\n",
    "    - N (int): Number of x_i variables per sample\n",
    "    - seed (int, optional): Random seed for reproducibility\n",
    "\n",
    "    Returns:\n",
    "    - samples (np.ndarray): Array of shape (M,) with samples of X_N\n",
    "    \"\"\"\n",
    "    if seed is not None:\n",
    "        np.random.seed(seed)\n",
    "    \n",
    "    # Generate MxN matrix of +/-1\n",
    "    x = np.random.choice([-1, 1], size=(M, N))\n",
    "    \n",
    "    # Compute X_N = (1/√N) * sum over axis=1\n",
    "    X_N = x.sum(axis=1) / np.sqrt(N)\n",
    "    \n",
    "    return X_N\n"
   ]
  },
  {
   "cell_type": "code",
   "execution_count": 24,
   "id": "a230967e",
   "metadata": {},
   "outputs": [
    {
     "data": {
      "image/png": "[encoded data removed]",
      "text/plain": [
       "<Figure size 640x480 with 1 Axes>"
      ]
     },
     "metadata": {},
     "output_type": "display_data"
    }
   ],
   "source": [
    "# Generate 10000 samples of X_N for N=2\n",
    "samples = sample_XN(M=10000, N=2)\n",
    "\n",
    "plt.hist(samples, density=True, alpha=0.7, color='skyblue', edgecolor='k')\n",
    "plt.title(\"Histogram of $X_N$ for N=2 (10,000 samples)\")\n",
    "plt.xlabel(\"$X_N$\")\n",
    "plt.ylabel(\"Density\")\n",
    "plt.show()\n"
   ]
  },
  {
   "cell_type": "code",
   "execution_count": 25,
   "id": "78c0d42d",
   "metadata": {},
   "outputs": [
    {
     "data": {
      "image/png": "[encoded data removed]",
      "text/plain": [
       "<Figure size 1200x800 with 1 Axes>"
      ]
     },
     "metadata": {},
     "output_type": "display_data"
    }
   ],
   "source": [
    "# Parameters\n",
    "Ns = [1, 3, 10, 30, 100]\n",
    "M = 10000  # number of samples per N\n",
    "\n",
    "# Plot\n",
    "plt.figure(figsize=(12, 8))\n",
    "x_vals = np.linspace(-4, 4, 1000)\n",
    "sns.set(style=\"whitegrid\")\n",
    "\n",
    "for N in Ns:\n",
    "    samples = sample_XN(M, N)\n",
    "    sns.kdeplot(samples, label=f\"N={N}\", linewidth=2)\n",
    "\n",
    "# Standard normal for comparison\n",
    "plt.plot(x_vals, norm.pdf(x_vals), 'k--', label=\"Standard Normal\", linewidth=2)\n",
    "\n",
    "plt.title(\"Density Estimation of $X_N$ for Various $N$ Values\")\n",
    "plt.xlabel(\"$x$\")\n",
    "plt.ylabel(\"Density\")\n",
    "plt.legend()\n",
    "plt.tight_layout()\n",
    "plt.show()\n"
   ]
  }
 ],
 "metadata": {
  "kernelspec": {
   "display_name": "Python 3",
   "language": "python",
   "name": "python3"
  },
  "language_info": {
   "codemirror_mode": {
    "name": "ipython",
    "version": 3
   },
   "file_extension": ".py",
   "mimetype": "text/x-python",
   "name": "python",
   "nbconvert_exporter": "python",
   "pygments_lexer": "ipython3",
   "version": "3.13.3"
  }
 },
 "nbformat": 4,
 "nbformat_minor": 5
}
